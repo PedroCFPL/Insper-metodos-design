{
  "cells": [
    {
      "cell_type": "markdown",
      "metadata": {
        "id": "view-in-github",
        "colab_type": "text"
      },
      "source": [
        "<a href=\"https://colab.research.google.com/github/PedroCFPL/Insper-metodos-design/blob/main/Revisao.ipynb\" target=\"_parent\"><img src=\"https://colab.research.google.com/assets/colab-badge.svg\" alt=\"Open In Colab\"/></a>"
      ]
    },
    {
      "cell_type": "markdown",
      "metadata": {
        "id": "Gn9j8fTNpiRu"
      },
      "source": [
        "# Revisão Rápida - Python\n"
      ]
    },
    {
      "cell_type": "markdown",
      "metadata": {
        "id": "Wg5DVAM8piRv"
      },
      "source": [
        "## **Antes de começarmos**\n",
        "\n",
        "1. Crie uma conta no GitHub: https://github.com/signup?source=login ou caso já tenha uma conta, faça a autenticação do seu usuário.\n",
        "2. Crie um repositório para utilizarmos durante as aulas. Este repositório precisa ter um arquivo \"README\", logo, marque a opção **\"Add a README file\"**.\n",
        "3. O nome pode do seu repositório pode ser **PADSW06MDCD**, por exemplo.\n",
        "4. Nesta Janela (que estamos agora), clique em Arquivo > Salvar uma Cópia no GitHub\n",
        "5. Em seguida, duas coisas podem acontecer (i) um **popup aparecer**: solicitando que você autorize o acesso ao seu **GitHub** por sua conta do **Colab** ou (ii) caso apareça alguma mensagem de erro, clique em \"Abrir em uma nova janela\".\n",
        "6. Em ambos os casos: autorize o acesso a sua conta do **GitHub**\n",
        "7. Por fim, escolha o repositório criado anteriormente e digite um comentário que represente a versão do seu projeto. Neste caso, pode ser. \"Copiando a lista de revisão\".\n",
        "\n",
        "\n",
        "- Google Colab\n",
        "    - colab.research.google.com/\n",
        "\n",
        "#### Sintáxe Básica Markdown\n",
        "\n",
        "[Material Aqui](https://www.markdownguide.org/basic-syntax/)\n",
        "\n",
        "Dicas Básicas de Sintáxe\n",
        "\n",
        "- Não utiliza ;\n",
        "- comentários podem ser feitos utilizando #\n",
        "- Variáveis precisam ser inicializada antes de seu uso\n",
        "- Podemos utilizar variáveis literais ou objetos\n",
        "- operações matemáticas básicas: + - / * ** %\n",
        "- Valor nulo é escrito como **None**\n",
        "- Blocos de códigos ou funções devem ter sempre *identação* ou seja, devem ter um tab para medir cada escopo\n",
        "- Blocos vazios devem conter pelo menos um comando **pass**\n",
        "- Saídas de dados podem ser feitas em sua maioria com o comando **print**, no entanto, saídas mais complexas funcionam sempre com **display**\n",
        "- Python possui tipagem "
      ]
    },
    {
      "cell_type": "markdown",
      "metadata": {
        "id": "v9b_KRsVpiRw"
      },
      "source": [
        "### Variáveis/Objetos\n",
        "\n",
        "- Crie um conjunto de variáveis para cada um dos tipos: número inteiro, string, booleano e número real\n",
        "- Exiba o conteúdo de uma destas variáveis e exiba o tipo de outra variável"
      ]
    },
    {
      "cell_type": "code",
      "execution_count": 2,
      "metadata": {
        "id": "GI2fccBupiRw",
        "colab": {
          "base_uri": "https://localhost:8080/"
        },
        "outputId": "43e2b36e-c258-4143-94ef-3dcbb075aefb"
      },
      "outputs": [
        {
          "output_type": "stream",
          "name": "stdout",
          "text": [
            "312312.24\n",
            "<class 'bool'>\n"
          ]
        }
      ],
      "source": [
        "#@title Ver exemplo\n",
        "numero_vendas = 23000\n",
        "nome_disciplina = 'Métodos de Design para Ciência de Dados'\n",
        "nome_instituicao = \"Insper\"\n",
        "possui_diploma = True\n",
        "receita_bruta = 312312.24\n",
        "\n",
        "print(receita_bruta) #Saída de Dados\n",
        "print(type(possui_diploma)) #como verificar o tipo de dado | pode utilizar display () também"
      ]
    },
    {
      "cell_type": "code",
      "source": [
        "var_int = 3\n",
        "var_string = 'oi'\n",
        "var_bool = False\n",
        "var_float = 1.3\n",
        "print(var_float)\n",
        "print(type(var_string))"
      ],
      "metadata": {
        "id": "GiPavqmeTQtb",
        "colab": {
          "base_uri": "https://localhost:8080/"
        },
        "outputId": "f7a14c9c-1643-4368-8731-4bc286ea3ecd"
      },
      "execution_count": 1,
      "outputs": [
        {
          "output_type": "stream",
          "name": "stdout",
          "text": [
            "1.3\n",
            "<class 'str'>\n"
          ]
        }
      ]
    },
    {
      "cell_type": "markdown",
      "metadata": {
        "id": "DSUCJHb9piRx"
      },
      "source": [
        "### Entrada e Saída de Dados\n",
        "\n",
        "- Realize a leitura de um dado do tipo String e exiba este texto apenas com letras maísculas\n",
        "\n",
        "Dica.: Métodos de uma String em Python\n",
        "https://www.w3schools.com/python/python_ref_string.asp\n"
      ]
    },
    {
      "cell_type": "code",
      "execution_count": 6,
      "metadata": {
        "id": "E7sOsU7kpiRy",
        "colab": {
          "base_uri": "https://localhost:8080/"
        },
        "outputId": "eb974360-6440-4f25-ed74-426f9f97f2ed"
      },
      "outputs": [
        {
          "output_type": "stream",
          "name": "stdout",
          "text": [
            "Insira um nome aqui:PEDro\n",
            "Nome com letras maísculas:  PEDRO\n"
          ]
        }
      ],
      "source": [
        "#@title Ver exemplo\n",
        "nome_usuario = input('Insira um nome aqui:') #para ler dados do usuário\n",
        "print('Nome com letras maísculas: ', nome_usuario.upper()) #printando nome e mostrando tudo em letra maiúscula"
      ]
    },
    {
      "cell_type": "code",
      "source": [
        "frase_usuario = input(\"Escreva algo aqui:\")\n",
        "print(frase_usuario.upper())"
      ],
      "metadata": {
        "id": "YzKhsr3-X_gp",
        "colab": {
          "base_uri": "https://localhost:8080/"
        },
        "outputId": "4603858a-4079-4684-9b67-05da126a925f"
      },
      "execution_count": 7,
      "outputs": [
        {
          "output_type": "stream",
          "name": "stdout",
          "text": [
            "Escreva algo aqui:omvqewpmfr84848KKSKSKS\n",
            "OMVQEWPMFR84848KKSKSKS\n"
          ]
        }
      ]
    },
    {
      "cell_type": "markdown",
      "source": [
        "- Realize a leitura de um dado do tipo inteiro, alocaondo-o em uma variável e exiba o conteúdo desta variável no meio de um texto."
      ],
      "metadata": {
        "id": "9nPDCl5GS81e"
      }
    },
    {
      "cell_type": "code",
      "source": [
        "#@title Ver exemplo\n",
        "idade_usuario = int(input(\"Informe sua idade: \")) #lembrar de fazer um casting para o tipo de dado\n",
        "print(f'Você possuí {idade_usuario} de idade')"
      ],
      "metadata": {
        "id": "yOFQ47RqqcPG",
        "colab": {
          "base_uri": "https://localhost:8080/"
        },
        "outputId": "bdaf4054-5dd0-44e0-806e-7fa0d649aae0"
      },
      "execution_count": 9,
      "outputs": [
        {
          "output_type": "stream",
          "name": "stdout",
          "text": [
            "Informe sua idade: 25\n",
            "Você possuí 25 de idade\n"
          ]
        }
      ]
    },
    {
      "cell_type": "code",
      "source": [
        "leitura_int = int(input('Escreva um número inteiro: '))\n",
        "print('O número escrito foi', leitura_int)"
      ],
      "metadata": {
        "id": "9M9RR3aKX_EZ",
        "colab": {
          "base_uri": "https://localhost:8080/"
        },
        "outputId": "177ecf04-3ae4-42b0-8789-640b51ddb577"
      },
      "execution_count": 8,
      "outputs": [
        {
          "output_type": "stream",
          "name": "stdout",
          "text": [
            "Escreva um número inteiro: 5\n",
            "O número escrito foi 5\n"
          ]
        }
      ]
    },
    {
      "cell_type": "markdown",
      "source": [
        "- Crie um par de constantes reais e exiba o resultado de uma operação matemática, utilizando estas constantes em uma saída de dados (utilizando print). Após isso, garanta que o resultado do cálculo tenha apenas duas casas decimáis."
      ],
      "metadata": {
        "id": "XoObw2t6TU4X"
      }
    },
    {
      "cell_type": "code",
      "execution_count": 12,
      "metadata": {
        "id": "f2H0h7rUpiRy",
        "colab": {
          "base_uri": "https://localhost:8080/"
        },
        "outputId": "2d4d6979-850b-4d3b-ba75-6707dd3a9925"
      },
      "outputs": [
        {
          "output_type": "stream",
          "name": "stdout",
          "text": [
            "O novo salário: R$15341.14, após o aumento, é de: R$48195.61\n"
          ]
        }
      ],
      "source": [
        "#@title Ver exemplo\n",
        "pi = 3.1415926535\n",
        "salario = 15341.14\n",
        "print('O novo salário: R${0:.2f}, após o aumento, é de: R${1:.2f}'.format(salario, salario * pi)) #outra forma de utilizar variáveis com dados"
      ]
    },
    {
      "cell_type": "code",
      "source": [
        "const_1 = 2.3423\n",
        "const_2 = 4.59494\n",
        "print(const_1 + const_2)\n",
        "\n",
        "result = round(const_1 + const_2, 2)\n",
        "print(result)\n",
        "\n",
        "print('const_1 = {0:.2f}, const_2 = {1:.2f}, const_1 + const_2 = {2:.2f}'.format(const_1, const_2, const_1 + const_2))"
      ],
      "metadata": {
        "id": "bFjZrjaTTiGk",
        "colab": {
          "base_uri": "https://localhost:8080/"
        },
        "outputId": "c6c2aec3-7926-4988-ebdc-1c5fb1f28bf0"
      },
      "execution_count": 13,
      "outputs": [
        {
          "output_type": "stream",
          "name": "stdout",
          "text": [
            "6.93724\n",
            "6.94\n",
            "const_1 = 2.34, const_2 = 4.59, const_1 + const_2 = 6.94\n"
          ]
        }
      ]
    },
    {
      "cell_type": "markdown",
      "source": [
        "### Operações com String\n",
        "\n",
        "- Armazene um e-mail em uma variável, por exemplo, homer@simpson.com e separe o nome do usuário {homer} do serviço de e-mail {simpson}"
      ],
      "metadata": {
        "id": "4qO8tIdMxB1Q"
      }
    },
    {
      "cell_type": "code",
      "execution_count": 16,
      "metadata": {
        "id": "of8D-wk9piRy",
        "colab": {
          "base_uri": "https://localhost:8080/"
        },
        "outputId": "9fd70195-51f9-42c9-90a2-5fe274dab74d"
      },
      "outputs": [
        {
          "output_type": "stream",
          "name": "stdout",
          "text": [
            "Usuário: homer - Domínio: simpson\n"
          ]
        }
      ],
      "source": [
        "#@title Ver exemplo\n",
        "texto_complexo = 'homer@simpson.com'\n",
        "\n",
        "usuario = texto_complexo.split('@')[0] #operações com String (split gera uma lista de dados)\n",
        "dominio = texto_complexo.split('@')[1].split('.')[0]\n",
        "\n",
        "print(\"Usuário: {0} - Domínio: {1}\".format(usuario, dominio))"
      ]
    },
    {
      "cell_type": "code",
      "source": [
        "email = 'pedrocfpl@mcgill.ca'\n",
        "\n",
        "nome = email.split('@')[0]\n",
        "servico = email.split('@')[1].split('.')[0]\n",
        "\n",
        "print('nome:', nome)\n",
        "print('serviço:', servico)\n",
        "\n",
        "print('nome: {0} - serviço: {1}'.format(nome, servico))"
      ],
      "metadata": {
        "id": "N6sFoglUX-To",
        "colab": {
          "base_uri": "https://localhost:8080/"
        },
        "outputId": "45ac428b-ee5b-42f0-cf64-755a791934a4"
      },
      "execution_count": 17,
      "outputs": [
        {
          "output_type": "stream",
          "name": "stdout",
          "text": [
            "nome: pedrocfpl\n",
            "serviço: mcgill\n",
            "nome: pedrocfpl - serviço: mcgill\n"
          ]
        }
      ]
    },
    {
      "cell_type": "markdown",
      "source": [
        "- Crie uma lista contendo os dados\n",
        "['São Paulo - SP', 'Itajaí - SC', 'Rio de Janeiro - RJ']\n",
        "- Após isso, exiba apenas os estados de cada cidade."
      ],
      "metadata": {
        "id": "lAHFue05UR16"
      }
    },
    {
      "cell_type": "code",
      "execution_count": 19,
      "metadata": {
        "id": "4Owl5sz5piRy",
        "colab": {
          "base_uri": "https://localhost:8080/"
        },
        "outputId": "40239bdd-14c0-4171-8571-756ea35c5f72"
      },
      "outputs": [
        {
          "output_type": "stream",
          "name": "stdout",
          "text": [
            " SP\n",
            " SC\n",
            " RJ\n"
          ]
        }
      ],
      "source": [
        "#@title Ver exemplo\n",
        "lista_textos = ['São Paulo - SP', 'Itajaí - SC', 'Rio de Janeiro - RJ']\n",
        "\n",
        "for um_texto in lista_textos:\n",
        "    print(um_texto.split('-')[1].split('|')[0])"
      ]
    },
    {
      "cell_type": "code",
      "source": [
        "cidades = ['São Paulo - SP', 'Itajaí - SC', 'Rio de Janeiro - RJ', 'Ouro Preto - MG']\n",
        "\n",
        "estados = [x.split(' - ')[1] for x in cidades]\n",
        "print(estados)"
      ],
      "metadata": {
        "id": "TkYoXcB4X91D",
        "colab": {
          "base_uri": "https://localhost:8080/"
        },
        "outputId": "8cb58221-1b57-450c-81df-d60fdc992a65"
      },
      "execution_count": 18,
      "outputs": [
        {
          "output_type": "stream",
          "name": "stdout",
          "text": [
            "['SP', 'SC', 'RJ', 'MG']\n"
          ]
        }
      ]
    },
    {
      "cell_type": "markdown",
      "metadata": {
        "id": "9ZLELgfrpiRz"
      },
      "source": [
        "### Coleções\n",
        "#### Listas\n",
        "\n",
        "Explore a documentação da coleção do tipo List https://www.w3schools.com/python/python_ref_list.asp e demonstre o uso de alguns destes métodos."
      ]
    },
    {
      "cell_type": "code",
      "execution_count": null,
      "metadata": {
        "id": "Z3X9BZcCpiRz",
        "cellView": "form"
      },
      "outputs": [],
      "source": [
        "#@title Ver exemplo\n",
        "nome1 = 'Luiz Durão' #variável de texto (str)\n",
        "nome2 = 'André Santana'\n",
        "\n",
        "lista_jamais_utilizada = []\n",
        "lista_nomes = [nome1, 'Matheus', 'Caio']\n",
        "lista_nomes.append('Ana') #anexa um elemento ao final da lista que invoca o método\n",
        "lista_nomes.append(nome2)\n",
        "\n",
        "lista_nomes_pool = ['José','Abner' ,'Luiza']\n",
        "lista_nomes.extend(lista_nomes_pool) #anexa uma lista ao final da lista que invoca o método\n",
        "\n",
        "print(lista_nomes[4])\n",
        "print(lista_nomes)\n",
        "\n",
        "lista_nomes.sort() #ordenar\n",
        "#print('Lista Ordenada: ', lista_nomes)\n",
        "lista_nomes.clear() #apagar\n",
        "#print('Lista vazia: ',lista_nomes)"
      ]
    },
    {
      "cell_type": "code",
      "source": [
        "lista = [2, 3, 'ola', 6.92, None, 'Pedro']\n",
        "\n",
        "lista.append('3')\n",
        "print(lista)\n",
        "\n",
        "print('a lista tem', lista.count(None), 'itens \"None\"')\n",
        "\n",
        "lista.reverse()\n",
        "print(lista)\n",
        "\n",
        "lista.pop()\n",
        "print(lista)"
      ],
      "metadata": {
        "id": "MGFvtJaiX9WW",
        "colab": {
          "base_uri": "https://localhost:8080/"
        },
        "outputId": "0f43cdd4-99ce-408e-d7b9-5d866b88c1f7"
      },
      "execution_count": 34,
      "outputs": [
        {
          "output_type": "stream",
          "name": "stdout",
          "text": [
            "[2, 3, 'ola', 6.92, None, 'Pedro', '3']\n",
            "a lista tem 1 itens \"None\"\n",
            "['3', 'Pedro', None, 6.92, 'ola', 3, 2]\n",
            "['3', 'Pedro', None, 6.92, 'ola', 3]\n"
          ]
        }
      ]
    },
    {
      "cell_type": "markdown",
      "metadata": {
        "id": "9hebG_aKpiRz"
      },
      "source": [
        "#### Estrutura de Repetição\n",
        "\n",
        "- Utilize um laço de repetição para exibir os nomes da lista criada no exemplo anterior."
      ]
    },
    {
      "cell_type": "code",
      "execution_count": 37,
      "metadata": {
        "id": "EOVPV7jlpiRz",
        "colab": {
          "base_uri": "https://localhost:8080/",
          "height": 200
        },
        "outputId": "8419f986-7c50-4ad0-fbb0-385397ed8f49"
      },
      "outputs": [
        {
          "output_type": "error",
          "ename": "NameError",
          "evalue": "ignored",
          "traceback": [
            "\u001b[0;31m---------------------------------------------------------------------------\u001b[0m",
            "\u001b[0;31mNameError\u001b[0m                                 Traceback (most recent call last)",
            "\u001b[0;32m<ipython-input-37-d09e0d20f797>\u001b[0m in \u001b[0;36m<module>\u001b[0;34m()\u001b[0m\n\u001b[1;32m      1\u001b[0m \u001b[0;31m#@title Ver exemplo\u001b[0m\u001b[0;34m\u001b[0m\u001b[0;34m\u001b[0m\u001b[0;34m\u001b[0m\u001b[0m\n\u001b[0;32m----> 2\u001b[0;31m \u001b[0;32mfor\u001b[0m \u001b[0mum_nome\u001b[0m \u001b[0;32min\u001b[0m \u001b[0mlista_nomes\u001b[0m\u001b[0;34m:\u001b[0m\u001b[0;34m\u001b[0m\u001b[0;34m\u001b[0m\u001b[0m\n\u001b[0m\u001b[1;32m      3\u001b[0m     \u001b[0mprint\u001b[0m\u001b[0;34m(\u001b[0m\u001b[0mum_nome\u001b[0m\u001b[0;34m)\u001b[0m\u001b[0;34m\u001b[0m\u001b[0;34m\u001b[0m\u001b[0m\n",
            "\u001b[0;31mNameError\u001b[0m: name 'lista_nomes' is not defined"
          ]
        }
      ],
      "source": [
        "#@title Ver exemplo\n",
        "for um_nome in lista_nomes:\n",
        "    print(um_nome)"
      ]
    },
    {
      "cell_type": "code",
      "source": [
        "# Aqui estou assumindo que todos os strings da minha lista são nomes (não é o caso, mas, enfim)\n",
        "for x in lista:\n",
        "  if type(x) == str:\n",
        "    print(x)"
      ],
      "metadata": {
        "id": "37hTZqPDX9B2",
        "colab": {
          "base_uri": "https://localhost:8080/"
        },
        "outputId": "3d02954b-22b3-4069-9bba-341cfa6f8890"
      },
      "execution_count": 36,
      "outputs": [
        {
          "output_type": "stream",
          "name": "stdout",
          "text": [
            "3\n",
            "Pedro\n",
            "ola\n"
          ]
        }
      ]
    },
    {
      "cell_type": "markdown",
      "metadata": {
        "id": "L5q056AYpiR0"
      },
      "source": [
        "#### Dicionários\n",
        "\n",
        "- Dicionário é uma coleção não-ordenada, mutável e indexada. Em python, utilizamos { } para sua criação e tratamos sempre de pares de chaves e valores.\n",
        "- Os elementos podem ser acessados com [] informado a chave desejada.\n",
        "- Explore as operações de um dicionário: crie um dicionário, adicione uma nova chave, altere o conteúdo de uma chave, exiba as chaves e valores do dicionário e utilize um laço de repetição para mostrar apenas os valores deste dicionário (sem as chaves).\n",
        "\n"
      ]
    },
    {
      "cell_type": "code",
      "execution_count": 42,
      "metadata": {
        "id": "odsP85q0piR0",
        "colab": {
          "base_uri": "https://localhost:8080/"
        },
        "outputId": "b10d1ba6-7bc6-41cb-dfc2-9d15b96fd98d"
      },
      "outputs": [
        {
          "output_type": "stream",
          "name": "stdout",
          "text": [
            "\n",
            "Dicionário\n",
            " {'nome': 'Homer', 'sobre_nome': 'Simpson', 'idade': 39, 'cidade_natal': 'Springfield'}\n",
            "\n",
            "Nome =  Homer Jay\n",
            "\n",
            " dict_keys(['nome', 'sobre_nome', 'idade', 'cidade_natal'])\n",
            "\n",
            " dict_values(['Homer Jay', 'Simpson', 39, 'Springfield']) \n",
            "\n",
            "Simpson\n",
            "39\n",
            "Springfield\n"
          ]
        }
      ],
      "source": [
        "#@title Ver exemplo\n",
        "dicionario_homer = {'nome':'Homer', 'sobre_nome': 'Simpson', 'idade':39, 'cidade_natal':'Springfield'}\n",
        "print('\\nDicionário\\n',dicionario_homer)\n",
        "\n",
        "dicionario_homer['nome'] = 'Homer Jay' #para mudar um valor de uma chave ou criar uma nova chave\n",
        " \n",
        "print('\\nNome = ', dicionario_homer['nome'])\n",
        "\n",
        "#exibindo as chaves do dicionário como uma lista\n",
        "print('\\n',dicionario_homer.keys())\n",
        "\n",
        "#exibindo os valores no dicionário como uma lista\n",
        "print('\\n',dicionario_homer.values(), '\\n')\n",
        "\n",
        "#para remover um item\n",
        "dicionario_homer.pop('nome')\n",
        "\n",
        "#percorrendo o dicinionário, \"iterando as chaves\"\n",
        "for chave in dicionario_homer.values():\n",
        "    print(chave)"
      ]
    },
    {
      "cell_type": "code",
      "source": [
        "dic = {'filme': 'Kung Fu Panda', 'ano': 2008, 'elenco': ['jack black', 'angelina jolie', 'seth rogen', 'lucy liu']}\n",
        "\n",
        "print('filme:', dic['filme'])\n",
        "print(dic)\n",
        "\n",
        "dic['filme'] = 'Kung Fu Panda 2'\n",
        "dic['ano'] = 2011\n",
        "\n",
        "print(dic)\n",
        "\n",
        "for key in dic.keys():\n",
        "  print(dic[key])"
      ],
      "metadata": {
        "id": "8iCq_kWIX8lu",
        "colab": {
          "base_uri": "https://localhost:8080/"
        },
        "outputId": "ea26f64c-866d-4c15-cddf-01c3af3b6a64"
      },
      "execution_count": 41,
      "outputs": [
        {
          "output_type": "stream",
          "name": "stdout",
          "text": [
            "filme: Kung Fu Panda\n",
            "{'filme': 'Kung Fu Panda', 'ano': 2008, 'elenco': ['jack black', 'angelina jolie', 'seth rogen', 'lucy liu']}\n",
            "{'filme': 'Kung Fu Panda 2', 'ano': 2011, 'elenco': ['jack black', 'angelina jolie', 'seth rogen', 'lucy liu']}\n",
            "Kung Fu Panda 2\n",
            "2011\n",
            "['jack black', 'angelina jolie', 'seth rogen', 'lucy liu']\n"
          ]
        }
      ]
    },
    {
      "cell_type": "markdown",
      "metadata": {
        "id": "sopYnFgtpiR0"
      },
      "source": [
        "### Métodos & Subrotinas\n",
        "**Criando \"Procedimentos/Subrotinas\"**\n",
        "\n",
        "- Crie um conjunto de funções com e sem parâmetros, com e sem retorno"
      ]
    },
    {
      "cell_type": "code",
      "execution_count": 46,
      "metadata": {
        "id": "6XeV3owdpiR0"
      },
      "outputs": [],
      "source": [
        "#@title Ver exemplo\n",
        "def retornarNomeAleatorio() -> str:\n",
        "    return \"Rick\"\n",
        "\n",
        "def exibirSaudacaoNome(nome : str) -> None:\n",
        "    print('Olá,', nome)\n",
        "\n",
        "def somarDoisNumeros(numero1, numero2):\n",
        "    return numero1 + numero2\n",
        "\n",
        "def calcularPotencia(base, expoente):\n",
        "    return base ** expoente\n",
        "\n",
        "def separarEstadoCidade(textoCompleto):\n",
        "    resultado = textoCompleto.split('-')\n",
        "    return resultado"
      ]
    },
    {
      "cell_type": "code",
      "source": [
        "def func_1():\n",
        "  return 'Função 1'\n",
        "\n",
        "def func_2(x, y):\n",
        "  print(x + y)\n",
        "\n",
        "print('Função 1 retorna:', func_1())\n",
        "print('Função 2 retorna:', func_2(5, 6))\n",
        "\n",
        "def qualSeuNome(nome : str) -> None:\n",
        "  print('ola', nome)\n",
        "\n",
        "qualSeuNome(5.9493)"
      ],
      "metadata": {
        "id": "Aywg3DUHX8JP",
        "colab": {
          "base_uri": "https://localhost:8080/"
        },
        "outputId": "c7eedf59-e4a3-417b-c39b-24ce2e76eddf"
      },
      "execution_count": 50,
      "outputs": [
        {
          "output_type": "stream",
          "name": "stdout",
          "text": [
            "Função 1 retorna: Função 1\n",
            "11\n",
            "Função 2 retorna: None\n",
            "ola 5.9493\n"
          ]
        }
      ]
    },
    {
      "cell_type": "markdown",
      "metadata": {
        "id": "3a4RjRfZpiR1"
      },
      "source": [
        "**Como utilizar os métodos criados**\n",
        "\n",
        "- Inicialmente, você deve cria-los em alguma célula e \"executar\" estes procedimentos antes do seu uso.\n",
        "- Em sequência, você deve chamar o método na célula em que deseja utiliza-lo, atentado-se ao nome do método, aos parâmetros enviados (quantidade e ordem) e se este método retornará ou não alguma resposta."
      ]
    },
    {
      "cell_type": "code",
      "execution_count": 52,
      "metadata": {
        "id": "y1YgpmnapiR1",
        "colab": {
          "base_uri": "https://localhost:8080/"
        },
        "outputId": "b74bfded-7257-4d1a-a852-f14b61bb2449"
      },
      "outputs": [
        {
          "output_type": "stream",
          "name": "stdout",
          "text": [
            "Olá, Homer\n",
            "Olá, Simpson\n",
            "34\n",
            "32\n",
            "256\n",
            "['São Paulo ', ' SP']\n"
          ]
        }
      ],
      "source": [
        "#@title Ver exemplo\n",
        "n1 = 'Homer'\n",
        "exibirSaudacaoNome(n1) #podemos utilizar uma variável\n",
        "exibirSaudacaoNome('Simpson') #ou envir um valor diretamente\n",
        "\n",
        "result = somarDoisNumeros(3,5) #podemos retornar e armazenar o resultado em uma variável\n",
        "print(somarDoisNumeros(13, 21)) #ou pegar seu retorno e diretamente \"printar na tela\"\n",
        "\n",
        "base = 2\n",
        "exp = 8\n",
        "print(calcularPotencia(base, 5)) #a variavel pode ter o mesmo nome la da função original\n",
        "print(calcularPotencia(base, exp)) #ou pode ter um nome diferente!\n",
        "\n",
        "print(separarEstadoCidade('São Paulo - SP')) #mas fique atento, a função depende de suas regras pra funcionar\n",
        "#print(separarEstadoCidade('São Paulo | SP')) #descomente o primeiro # desta linha para ver o que acontece!"
      ]
    },
    {
      "cell_type": "code",
      "source": [
        "print('Função 1 retorna:', func_1())\n",
        "print('Função 2 retorna:', func_2(5, 6))\n",
        "\n",
        "qualSeuNome(5.9493)"
      ],
      "metadata": {
        "id": "0xiZjn4eX7s3",
        "colab": {
          "base_uri": "https://localhost:8080/"
        },
        "outputId": "a14e5a04-250e-4adf-8814-34e778c912e3"
      },
      "execution_count": 51,
      "outputs": [
        {
          "output_type": "stream",
          "name": "stdout",
          "text": [
            "Função 1 retorna: Função 1\n",
            "11\n",
            "Função 2 retorna: None\n",
            "ola 5.9493\n"
          ]
        }
      ]
    },
    {
      "cell_type": "markdown",
      "metadata": {
        "id": "D0PM7f8ApiR1"
      },
      "source": [
        "### Bibliotecas - Estatística (Pandas)\n",
        "\n",
        "1. Importe a biblioteca pandas (caso necessário, instale com: pip install pandas)\n",
        "2. Coloque seu conjunto de dados no mesmo diretório em que seu notebook foi criado\n",
        "2. Utilize pd.**read_excel**('nome.extensao') para ler planilhas do excel e pd.**read_csv**('nome.extensao') para ler arquivos csv\n",
        "\n",
        "Links Rápidos\n",
        "\n",
        "- https://pandas.pydata.org/\n",
        "- https://pandas.pydata.org/docs/reference/api/pandas.DataFrame.html\n"
      ]
    },
    {
      "cell_type": "markdown",
      "source": [
        "#### Importando um conjunto de dados\n",
        "\n",
        "- Lembre-se que o separador de um CSV pode ser diferente, neste caso, inclua delimiter = \";\" em que ; deve ser substituído pelo separador\n",
        "- Importe a os dados do arquivo olist_orders_dataset.csv em uma variável e exiba o seu conteúdo.\n",
        "- Os dados podem ser baixados em: https://www.kaggle.com/olistbr/brazilian-ecommerce\n",
        "- Todos os conjuntos de dados utilizados nos próximos exemplos estão associados aos dados da OlistBr"
      ],
      "metadata": {
        "id": "cXUIfPVAxI63"
      }
    },
    {
      "cell_type": "code",
      "execution_count": 53,
      "metadata": {
        "id": "D43morclpiR1",
        "colab": {
          "base_uri": "https://localhost:8080/",
          "height": 363
        },
        "outputId": "707c5a3d-f447-4cc7-e242-98e2c682e8d7"
      },
      "outputs": [
        {
          "output_type": "error",
          "ename": "FileNotFoundError",
          "evalue": "ignored",
          "traceback": [
            "\u001b[0;31m---------------------------------------------------------------------------\u001b[0m",
            "\u001b[0;31mFileNotFoundError\u001b[0m                         Traceback (most recent call last)",
            "\u001b[0;32m<ipython-input-53-cfcba880c800>\u001b[0m in \u001b[0;36m<module>\u001b[0;34m()\u001b[0m\n\u001b[1;32m      2\u001b[0m \u001b[0;32mimport\u001b[0m \u001b[0mpandas\u001b[0m \u001b[0;32mas\u001b[0m \u001b[0mpd\u001b[0m\u001b[0;34m\u001b[0m\u001b[0;34m\u001b[0m\u001b[0m\n\u001b[1;32m      3\u001b[0m \u001b[0;34m\u001b[0m\u001b[0m\n\u001b[0;32m----> 4\u001b[0;31m \u001b[0mdf\u001b[0m \u001b[0;34m=\u001b[0m \u001b[0mpd\u001b[0m\u001b[0;34m.\u001b[0m\u001b[0mread_csv\u001b[0m\u001b[0;34m(\u001b[0m\u001b[0;34m'olist_orders_dataset.csv'\u001b[0m\u001b[0;34m)\u001b[0m \u001b[0;31m#faz a leitura de uma planilha, dado o seu caminho\u001b[0m\u001b[0;34m\u001b[0m\u001b[0;34m\u001b[0m\u001b[0m\n\u001b[0m\u001b[1;32m      5\u001b[0m \u001b[0mdisplay\u001b[0m\u001b[0;34m(\u001b[0m\u001b[0mdf\u001b[0m\u001b[0;34m)\u001b[0m \u001b[0;31m#exibe os resultados da planilha\u001b[0m\u001b[0;34m\u001b[0m\u001b[0;34m\u001b[0m\u001b[0m\n",
            "\u001b[0;32m/usr/local/lib/python3.7/dist-packages/pandas/util/_decorators.py\u001b[0m in \u001b[0;36mwrapper\u001b[0;34m(*args, **kwargs)\u001b[0m\n\u001b[1;32m    309\u001b[0m                     \u001b[0mstacklevel\u001b[0m\u001b[0;34m=\u001b[0m\u001b[0mstacklevel\u001b[0m\u001b[0;34m,\u001b[0m\u001b[0;34m\u001b[0m\u001b[0;34m\u001b[0m\u001b[0m\n\u001b[1;32m    310\u001b[0m                 )\n\u001b[0;32m--> 311\u001b[0;31m             \u001b[0;32mreturn\u001b[0m \u001b[0mfunc\u001b[0m\u001b[0;34m(\u001b[0m\u001b[0;34m*\u001b[0m\u001b[0margs\u001b[0m\u001b[0;34m,\u001b[0m \u001b[0;34m**\u001b[0m\u001b[0mkwargs\u001b[0m\u001b[0;34m)\u001b[0m\u001b[0;34m\u001b[0m\u001b[0;34m\u001b[0m\u001b[0m\n\u001b[0m\u001b[1;32m    312\u001b[0m \u001b[0;34m\u001b[0m\u001b[0m\n\u001b[1;32m    313\u001b[0m         \u001b[0;32mreturn\u001b[0m \u001b[0mwrapper\u001b[0m\u001b[0;34m\u001b[0m\u001b[0;34m\u001b[0m\u001b[0m\n",
            "\u001b[0;32m/usr/local/lib/python3.7/dist-packages/pandas/io/parsers/readers.py\u001b[0m in \u001b[0;36mread_csv\u001b[0;34m(filepath_or_buffer, sep, delimiter, header, names, index_col, usecols, squeeze, prefix, mangle_dupe_cols, dtype, engine, converters, true_values, false_values, skipinitialspace, skiprows, skipfooter, nrows, na_values, keep_default_na, na_filter, verbose, skip_blank_lines, parse_dates, infer_datetime_format, keep_date_col, date_parser, dayfirst, cache_dates, iterator, chunksize, compression, thousands, decimal, lineterminator, quotechar, quoting, doublequote, escapechar, comment, encoding, encoding_errors, dialect, error_bad_lines, warn_bad_lines, on_bad_lines, delim_whitespace, low_memory, memory_map, float_precision, storage_options)\u001b[0m\n\u001b[1;32m    584\u001b[0m     \u001b[0mkwds\u001b[0m\u001b[0;34m.\u001b[0m\u001b[0mupdate\u001b[0m\u001b[0;34m(\u001b[0m\u001b[0mkwds_defaults\u001b[0m\u001b[0;34m)\u001b[0m\u001b[0;34m\u001b[0m\u001b[0;34m\u001b[0m\u001b[0m\n\u001b[1;32m    585\u001b[0m \u001b[0;34m\u001b[0m\u001b[0m\n\u001b[0;32m--> 586\u001b[0;31m     \u001b[0;32mreturn\u001b[0m \u001b[0m_read\u001b[0m\u001b[0;34m(\u001b[0m\u001b[0mfilepath_or_buffer\u001b[0m\u001b[0;34m,\u001b[0m \u001b[0mkwds\u001b[0m\u001b[0;34m)\u001b[0m\u001b[0;34m\u001b[0m\u001b[0;34m\u001b[0m\u001b[0m\n\u001b[0m\u001b[1;32m    587\u001b[0m \u001b[0;34m\u001b[0m\u001b[0m\n\u001b[1;32m    588\u001b[0m \u001b[0;34m\u001b[0m\u001b[0m\n",
            "\u001b[0;32m/usr/local/lib/python3.7/dist-packages/pandas/io/parsers/readers.py\u001b[0m in \u001b[0;36m_read\u001b[0;34m(filepath_or_buffer, kwds)\u001b[0m\n\u001b[1;32m    480\u001b[0m \u001b[0;34m\u001b[0m\u001b[0m\n\u001b[1;32m    481\u001b[0m     \u001b[0;31m# Create the parser.\u001b[0m\u001b[0;34m\u001b[0m\u001b[0;34m\u001b[0m\u001b[0;34m\u001b[0m\u001b[0m\n\u001b[0;32m--> 482\u001b[0;31m     \u001b[0mparser\u001b[0m \u001b[0;34m=\u001b[0m \u001b[0mTextFileReader\u001b[0m\u001b[0;34m(\u001b[0m\u001b[0mfilepath_or_buffer\u001b[0m\u001b[0;34m,\u001b[0m \u001b[0;34m**\u001b[0m\u001b[0mkwds\u001b[0m\u001b[0;34m)\u001b[0m\u001b[0;34m\u001b[0m\u001b[0;34m\u001b[0m\u001b[0m\n\u001b[0m\u001b[1;32m    483\u001b[0m \u001b[0;34m\u001b[0m\u001b[0m\n\u001b[1;32m    484\u001b[0m     \u001b[0;32mif\u001b[0m \u001b[0mchunksize\u001b[0m \u001b[0;32mor\u001b[0m \u001b[0miterator\u001b[0m\u001b[0;34m:\u001b[0m\u001b[0;34m\u001b[0m\u001b[0;34m\u001b[0m\u001b[0m\n",
            "\u001b[0;32m/usr/local/lib/python3.7/dist-packages/pandas/io/parsers/readers.py\u001b[0m in \u001b[0;36m__init__\u001b[0;34m(self, f, engine, **kwds)\u001b[0m\n\u001b[1;32m    809\u001b[0m             \u001b[0mself\u001b[0m\u001b[0;34m.\u001b[0m\u001b[0moptions\u001b[0m\u001b[0;34m[\u001b[0m\u001b[0;34m\"has_index_names\"\u001b[0m\u001b[0;34m]\u001b[0m \u001b[0;34m=\u001b[0m \u001b[0mkwds\u001b[0m\u001b[0;34m[\u001b[0m\u001b[0;34m\"has_index_names\"\u001b[0m\u001b[0;34m]\u001b[0m\u001b[0;34m\u001b[0m\u001b[0;34m\u001b[0m\u001b[0m\n\u001b[1;32m    810\u001b[0m \u001b[0;34m\u001b[0m\u001b[0m\n\u001b[0;32m--> 811\u001b[0;31m         \u001b[0mself\u001b[0m\u001b[0;34m.\u001b[0m\u001b[0m_engine\u001b[0m \u001b[0;34m=\u001b[0m \u001b[0mself\u001b[0m\u001b[0;34m.\u001b[0m\u001b[0m_make_engine\u001b[0m\u001b[0;34m(\u001b[0m\u001b[0mself\u001b[0m\u001b[0;34m.\u001b[0m\u001b[0mengine\u001b[0m\u001b[0;34m)\u001b[0m\u001b[0;34m\u001b[0m\u001b[0;34m\u001b[0m\u001b[0m\n\u001b[0m\u001b[1;32m    812\u001b[0m \u001b[0;34m\u001b[0m\u001b[0m\n\u001b[1;32m    813\u001b[0m     \u001b[0;32mdef\u001b[0m \u001b[0mclose\u001b[0m\u001b[0;34m(\u001b[0m\u001b[0mself\u001b[0m\u001b[0;34m)\u001b[0m\u001b[0;34m:\u001b[0m\u001b[0;34m\u001b[0m\u001b[0;34m\u001b[0m\u001b[0m\n",
            "\u001b[0;32m/usr/local/lib/python3.7/dist-packages/pandas/io/parsers/readers.py\u001b[0m in \u001b[0;36m_make_engine\u001b[0;34m(self, engine)\u001b[0m\n\u001b[1;32m   1038\u001b[0m             )\n\u001b[1;32m   1039\u001b[0m         \u001b[0;31m# error: Too many arguments for \"ParserBase\"\u001b[0m\u001b[0;34m\u001b[0m\u001b[0;34m\u001b[0m\u001b[0;34m\u001b[0m\u001b[0m\n\u001b[0;32m-> 1040\u001b[0;31m         \u001b[0;32mreturn\u001b[0m \u001b[0mmapping\u001b[0m\u001b[0;34m[\u001b[0m\u001b[0mengine\u001b[0m\u001b[0;34m]\u001b[0m\u001b[0;34m(\u001b[0m\u001b[0mself\u001b[0m\u001b[0;34m.\u001b[0m\u001b[0mf\u001b[0m\u001b[0;34m,\u001b[0m \u001b[0;34m**\u001b[0m\u001b[0mself\u001b[0m\u001b[0;34m.\u001b[0m\u001b[0moptions\u001b[0m\u001b[0;34m)\u001b[0m  \u001b[0;31m# type: ignore[call-arg]\u001b[0m\u001b[0;34m\u001b[0m\u001b[0;34m\u001b[0m\u001b[0m\n\u001b[0m\u001b[1;32m   1041\u001b[0m \u001b[0;34m\u001b[0m\u001b[0m\n\u001b[1;32m   1042\u001b[0m     \u001b[0;32mdef\u001b[0m \u001b[0m_failover_to_python\u001b[0m\u001b[0;34m(\u001b[0m\u001b[0mself\u001b[0m\u001b[0;34m)\u001b[0m\u001b[0;34m:\u001b[0m\u001b[0;34m\u001b[0m\u001b[0;34m\u001b[0m\u001b[0m\n",
            "\u001b[0;32m/usr/local/lib/python3.7/dist-packages/pandas/io/parsers/c_parser_wrapper.py\u001b[0m in \u001b[0;36m__init__\u001b[0;34m(self, src, **kwds)\u001b[0m\n\u001b[1;32m     49\u001b[0m \u001b[0;34m\u001b[0m\u001b[0m\n\u001b[1;32m     50\u001b[0m         \u001b[0;31m# open handles\u001b[0m\u001b[0;34m\u001b[0m\u001b[0;34m\u001b[0m\u001b[0;34m\u001b[0m\u001b[0m\n\u001b[0;32m---> 51\u001b[0;31m         \u001b[0mself\u001b[0m\u001b[0;34m.\u001b[0m\u001b[0m_open_handles\u001b[0m\u001b[0;34m(\u001b[0m\u001b[0msrc\u001b[0m\u001b[0;34m,\u001b[0m \u001b[0mkwds\u001b[0m\u001b[0;34m)\u001b[0m\u001b[0;34m\u001b[0m\u001b[0;34m\u001b[0m\u001b[0m\n\u001b[0m\u001b[1;32m     52\u001b[0m         \u001b[0;32massert\u001b[0m \u001b[0mself\u001b[0m\u001b[0;34m.\u001b[0m\u001b[0mhandles\u001b[0m \u001b[0;32mis\u001b[0m \u001b[0;32mnot\u001b[0m \u001b[0;32mNone\u001b[0m\u001b[0;34m\u001b[0m\u001b[0;34m\u001b[0m\u001b[0m\n\u001b[1;32m     53\u001b[0m \u001b[0;34m\u001b[0m\u001b[0m\n",
            "\u001b[0;32m/usr/local/lib/python3.7/dist-packages/pandas/io/parsers/base_parser.py\u001b[0m in \u001b[0;36m_open_handles\u001b[0;34m(self, src, kwds)\u001b[0m\n\u001b[1;32m    227\u001b[0m             \u001b[0mmemory_map\u001b[0m\u001b[0;34m=\u001b[0m\u001b[0mkwds\u001b[0m\u001b[0;34m.\u001b[0m\u001b[0mget\u001b[0m\u001b[0;34m(\u001b[0m\u001b[0;34m\"memory_map\"\u001b[0m\u001b[0;34m,\u001b[0m \u001b[0;32mFalse\u001b[0m\u001b[0;34m)\u001b[0m\u001b[0;34m,\u001b[0m\u001b[0;34m\u001b[0m\u001b[0;34m\u001b[0m\u001b[0m\n\u001b[1;32m    228\u001b[0m             \u001b[0mstorage_options\u001b[0m\u001b[0;34m=\u001b[0m\u001b[0mkwds\u001b[0m\u001b[0;34m.\u001b[0m\u001b[0mget\u001b[0m\u001b[0;34m(\u001b[0m\u001b[0;34m\"storage_options\"\u001b[0m\u001b[0;34m,\u001b[0m \u001b[0;32mNone\u001b[0m\u001b[0;34m)\u001b[0m\u001b[0;34m,\u001b[0m\u001b[0;34m\u001b[0m\u001b[0;34m\u001b[0m\u001b[0m\n\u001b[0;32m--> 229\u001b[0;31m             \u001b[0merrors\u001b[0m\u001b[0;34m=\u001b[0m\u001b[0mkwds\u001b[0m\u001b[0;34m.\u001b[0m\u001b[0mget\u001b[0m\u001b[0;34m(\u001b[0m\u001b[0;34m\"encoding_errors\"\u001b[0m\u001b[0;34m,\u001b[0m \u001b[0;34m\"strict\"\u001b[0m\u001b[0;34m)\u001b[0m\u001b[0;34m,\u001b[0m\u001b[0;34m\u001b[0m\u001b[0;34m\u001b[0m\u001b[0m\n\u001b[0m\u001b[1;32m    230\u001b[0m         )\n\u001b[1;32m    231\u001b[0m \u001b[0;34m\u001b[0m\u001b[0m\n",
            "\u001b[0;32m/usr/local/lib/python3.7/dist-packages/pandas/io/common.py\u001b[0m in \u001b[0;36mget_handle\u001b[0;34m(path_or_buf, mode, encoding, compression, memory_map, is_text, errors, storage_options)\u001b[0m\n\u001b[1;32m    705\u001b[0m                 \u001b[0mencoding\u001b[0m\u001b[0;34m=\u001b[0m\u001b[0mioargs\u001b[0m\u001b[0;34m.\u001b[0m\u001b[0mencoding\u001b[0m\u001b[0;34m,\u001b[0m\u001b[0;34m\u001b[0m\u001b[0;34m\u001b[0m\u001b[0m\n\u001b[1;32m    706\u001b[0m                 \u001b[0merrors\u001b[0m\u001b[0;34m=\u001b[0m\u001b[0merrors\u001b[0m\u001b[0;34m,\u001b[0m\u001b[0;34m\u001b[0m\u001b[0;34m\u001b[0m\u001b[0m\n\u001b[0;32m--> 707\u001b[0;31m                 \u001b[0mnewline\u001b[0m\u001b[0;34m=\u001b[0m\u001b[0;34m\"\"\u001b[0m\u001b[0;34m,\u001b[0m\u001b[0;34m\u001b[0m\u001b[0;34m\u001b[0m\u001b[0m\n\u001b[0m\u001b[1;32m    708\u001b[0m             )\n\u001b[1;32m    709\u001b[0m         \u001b[0;32melse\u001b[0m\u001b[0;34m:\u001b[0m\u001b[0;34m\u001b[0m\u001b[0;34m\u001b[0m\u001b[0m\n",
            "\u001b[0;31mFileNotFoundError\u001b[0m: [Errno 2] No such file or directory: 'olist_orders_dataset.csv'"
          ]
        }
      ],
      "source": [
        "#@title Ver exemplo\n",
        "import pandas as pd\n",
        "\n",
        "df = pd.read_csv('olist_orders_dataset.csv') #faz a leitura de uma planilha, dado o seu caminho\n",
        "display(df) #exibe os resultados da planilha"
      ]
    },
    {
      "cell_type": "code",
      "source": [
        "import pandas as pd\n",
        "\n",
        "df = pd.read_csv('olist_orders_dataset.csv', delimiter=';')\n",
        "display(df)"
      ],
      "metadata": {
        "id": "huwq0-0GX6ZW",
        "colab": {
          "base_uri": "https://localhost:8080/",
          "height": 363
        },
        "outputId": "f11730e9-c0fc-417c-8908-a9cdabed541e"
      },
      "execution_count": 55,
      "outputs": [
        {
          "output_type": "error",
          "ename": "FileNotFoundError",
          "evalue": "ignored",
          "traceback": [
            "\u001b[0;31m---------------------------------------------------------------------------\u001b[0m",
            "\u001b[0;31mFileNotFoundError\u001b[0m                         Traceback (most recent call last)",
            "\u001b[0;32m<ipython-input-55-7c3df4bddc1f>\u001b[0m in \u001b[0;36m<module>\u001b[0;34m()\u001b[0m\n\u001b[1;32m      1\u001b[0m \u001b[0;32mimport\u001b[0m \u001b[0mpandas\u001b[0m \u001b[0;32mas\u001b[0m \u001b[0mpd\u001b[0m\u001b[0;34m\u001b[0m\u001b[0;34m\u001b[0m\u001b[0m\n\u001b[1;32m      2\u001b[0m \u001b[0;34m\u001b[0m\u001b[0m\n\u001b[0;32m----> 3\u001b[0;31m \u001b[0mdf\u001b[0m \u001b[0;34m=\u001b[0m \u001b[0mpd\u001b[0m\u001b[0;34m.\u001b[0m\u001b[0mread_csv\u001b[0m\u001b[0;34m(\u001b[0m\u001b[0;34m'olist_orders_dataset.csv'\u001b[0m\u001b[0;34m,\u001b[0m \u001b[0mdelimiter\u001b[0m\u001b[0;34m=\u001b[0m\u001b[0;34m';'\u001b[0m\u001b[0;34m)\u001b[0m\u001b[0;34m\u001b[0m\u001b[0;34m\u001b[0m\u001b[0m\n\u001b[0m\u001b[1;32m      4\u001b[0m \u001b[0mdisplay\u001b[0m\u001b[0;34m(\u001b[0m\u001b[0mdf\u001b[0m\u001b[0;34m)\u001b[0m\u001b[0;34m\u001b[0m\u001b[0;34m\u001b[0m\u001b[0m\n",
            "\u001b[0;32m/usr/local/lib/python3.7/dist-packages/pandas/util/_decorators.py\u001b[0m in \u001b[0;36mwrapper\u001b[0;34m(*args, **kwargs)\u001b[0m\n\u001b[1;32m    309\u001b[0m                     \u001b[0mstacklevel\u001b[0m\u001b[0;34m=\u001b[0m\u001b[0mstacklevel\u001b[0m\u001b[0;34m,\u001b[0m\u001b[0;34m\u001b[0m\u001b[0;34m\u001b[0m\u001b[0m\n\u001b[1;32m    310\u001b[0m                 )\n\u001b[0;32m--> 311\u001b[0;31m             \u001b[0;32mreturn\u001b[0m \u001b[0mfunc\u001b[0m\u001b[0;34m(\u001b[0m\u001b[0;34m*\u001b[0m\u001b[0margs\u001b[0m\u001b[0;34m,\u001b[0m \u001b[0;34m**\u001b[0m\u001b[0mkwargs\u001b[0m\u001b[0;34m)\u001b[0m\u001b[0;34m\u001b[0m\u001b[0;34m\u001b[0m\u001b[0m\n\u001b[0m\u001b[1;32m    312\u001b[0m \u001b[0;34m\u001b[0m\u001b[0m\n\u001b[1;32m    313\u001b[0m         \u001b[0;32mreturn\u001b[0m \u001b[0mwrapper\u001b[0m\u001b[0;34m\u001b[0m\u001b[0;34m\u001b[0m\u001b[0m\n",
            "\u001b[0;32m/usr/local/lib/python3.7/dist-packages/pandas/io/parsers/readers.py\u001b[0m in \u001b[0;36mread_csv\u001b[0;34m(filepath_or_buffer, sep, delimiter, header, names, index_col, usecols, squeeze, prefix, mangle_dupe_cols, dtype, engine, converters, true_values, false_values, skipinitialspace, skiprows, skipfooter, nrows, na_values, keep_default_na, na_filter, verbose, skip_blank_lines, parse_dates, infer_datetime_format, keep_date_col, date_parser, dayfirst, cache_dates, iterator, chunksize, compression, thousands, decimal, lineterminator, quotechar, quoting, doublequote, escapechar, comment, encoding, encoding_errors, dialect, error_bad_lines, warn_bad_lines, on_bad_lines, delim_whitespace, low_memory, memory_map, float_precision, storage_options)\u001b[0m\n\u001b[1;32m    584\u001b[0m     \u001b[0mkwds\u001b[0m\u001b[0;34m.\u001b[0m\u001b[0mupdate\u001b[0m\u001b[0;34m(\u001b[0m\u001b[0mkwds_defaults\u001b[0m\u001b[0;34m)\u001b[0m\u001b[0;34m\u001b[0m\u001b[0;34m\u001b[0m\u001b[0m\n\u001b[1;32m    585\u001b[0m \u001b[0;34m\u001b[0m\u001b[0m\n\u001b[0;32m--> 586\u001b[0;31m     \u001b[0;32mreturn\u001b[0m \u001b[0m_read\u001b[0m\u001b[0;34m(\u001b[0m\u001b[0mfilepath_or_buffer\u001b[0m\u001b[0;34m,\u001b[0m \u001b[0mkwds\u001b[0m\u001b[0;34m)\u001b[0m\u001b[0;34m\u001b[0m\u001b[0;34m\u001b[0m\u001b[0m\n\u001b[0m\u001b[1;32m    587\u001b[0m \u001b[0;34m\u001b[0m\u001b[0m\n\u001b[1;32m    588\u001b[0m \u001b[0;34m\u001b[0m\u001b[0m\n",
            "\u001b[0;32m/usr/local/lib/python3.7/dist-packages/pandas/io/parsers/readers.py\u001b[0m in \u001b[0;36m_read\u001b[0;34m(filepath_or_buffer, kwds)\u001b[0m\n\u001b[1;32m    480\u001b[0m \u001b[0;34m\u001b[0m\u001b[0m\n\u001b[1;32m    481\u001b[0m     \u001b[0;31m# Create the parser.\u001b[0m\u001b[0;34m\u001b[0m\u001b[0;34m\u001b[0m\u001b[0;34m\u001b[0m\u001b[0m\n\u001b[0;32m--> 482\u001b[0;31m     \u001b[0mparser\u001b[0m \u001b[0;34m=\u001b[0m \u001b[0mTextFileReader\u001b[0m\u001b[0;34m(\u001b[0m\u001b[0mfilepath_or_buffer\u001b[0m\u001b[0;34m,\u001b[0m \u001b[0;34m**\u001b[0m\u001b[0mkwds\u001b[0m\u001b[0;34m)\u001b[0m\u001b[0;34m\u001b[0m\u001b[0;34m\u001b[0m\u001b[0m\n\u001b[0m\u001b[1;32m    483\u001b[0m \u001b[0;34m\u001b[0m\u001b[0m\n\u001b[1;32m    484\u001b[0m     \u001b[0;32mif\u001b[0m \u001b[0mchunksize\u001b[0m \u001b[0;32mor\u001b[0m \u001b[0miterator\u001b[0m\u001b[0;34m:\u001b[0m\u001b[0;34m\u001b[0m\u001b[0;34m\u001b[0m\u001b[0m\n",
            "\u001b[0;32m/usr/local/lib/python3.7/dist-packages/pandas/io/parsers/readers.py\u001b[0m in \u001b[0;36m__init__\u001b[0;34m(self, f, engine, **kwds)\u001b[0m\n\u001b[1;32m    809\u001b[0m             \u001b[0mself\u001b[0m\u001b[0;34m.\u001b[0m\u001b[0moptions\u001b[0m\u001b[0;34m[\u001b[0m\u001b[0;34m\"has_index_names\"\u001b[0m\u001b[0;34m]\u001b[0m \u001b[0;34m=\u001b[0m \u001b[0mkwds\u001b[0m\u001b[0;34m[\u001b[0m\u001b[0;34m\"has_index_names\"\u001b[0m\u001b[0;34m]\u001b[0m\u001b[0;34m\u001b[0m\u001b[0;34m\u001b[0m\u001b[0m\n\u001b[1;32m    810\u001b[0m \u001b[0;34m\u001b[0m\u001b[0m\n\u001b[0;32m--> 811\u001b[0;31m         \u001b[0mself\u001b[0m\u001b[0;34m.\u001b[0m\u001b[0m_engine\u001b[0m \u001b[0;34m=\u001b[0m \u001b[0mself\u001b[0m\u001b[0;34m.\u001b[0m\u001b[0m_make_engine\u001b[0m\u001b[0;34m(\u001b[0m\u001b[0mself\u001b[0m\u001b[0;34m.\u001b[0m\u001b[0mengine\u001b[0m\u001b[0;34m)\u001b[0m\u001b[0;34m\u001b[0m\u001b[0;34m\u001b[0m\u001b[0m\n\u001b[0m\u001b[1;32m    812\u001b[0m \u001b[0;34m\u001b[0m\u001b[0m\n\u001b[1;32m    813\u001b[0m     \u001b[0;32mdef\u001b[0m \u001b[0mclose\u001b[0m\u001b[0;34m(\u001b[0m\u001b[0mself\u001b[0m\u001b[0;34m)\u001b[0m\u001b[0;34m:\u001b[0m\u001b[0;34m\u001b[0m\u001b[0;34m\u001b[0m\u001b[0m\n",
            "\u001b[0;32m/usr/local/lib/python3.7/dist-packages/pandas/io/parsers/readers.py\u001b[0m in \u001b[0;36m_make_engine\u001b[0;34m(self, engine)\u001b[0m\n\u001b[1;32m   1038\u001b[0m             )\n\u001b[1;32m   1039\u001b[0m         \u001b[0;31m# error: Too many arguments for \"ParserBase\"\u001b[0m\u001b[0;34m\u001b[0m\u001b[0;34m\u001b[0m\u001b[0;34m\u001b[0m\u001b[0m\n\u001b[0;32m-> 1040\u001b[0;31m         \u001b[0;32mreturn\u001b[0m \u001b[0mmapping\u001b[0m\u001b[0;34m[\u001b[0m\u001b[0mengine\u001b[0m\u001b[0;34m]\u001b[0m\u001b[0;34m(\u001b[0m\u001b[0mself\u001b[0m\u001b[0;34m.\u001b[0m\u001b[0mf\u001b[0m\u001b[0;34m,\u001b[0m \u001b[0;34m**\u001b[0m\u001b[0mself\u001b[0m\u001b[0;34m.\u001b[0m\u001b[0moptions\u001b[0m\u001b[0;34m)\u001b[0m  \u001b[0;31m# type: ignore[call-arg]\u001b[0m\u001b[0;34m\u001b[0m\u001b[0;34m\u001b[0m\u001b[0m\n\u001b[0m\u001b[1;32m   1041\u001b[0m \u001b[0;34m\u001b[0m\u001b[0m\n\u001b[1;32m   1042\u001b[0m     \u001b[0;32mdef\u001b[0m \u001b[0m_failover_to_python\u001b[0m\u001b[0;34m(\u001b[0m\u001b[0mself\u001b[0m\u001b[0;34m)\u001b[0m\u001b[0;34m:\u001b[0m\u001b[0;34m\u001b[0m\u001b[0;34m\u001b[0m\u001b[0m\n",
            "\u001b[0;32m/usr/local/lib/python3.7/dist-packages/pandas/io/parsers/c_parser_wrapper.py\u001b[0m in \u001b[0;36m__init__\u001b[0;34m(self, src, **kwds)\u001b[0m\n\u001b[1;32m     49\u001b[0m \u001b[0;34m\u001b[0m\u001b[0m\n\u001b[1;32m     50\u001b[0m         \u001b[0;31m# open handles\u001b[0m\u001b[0;34m\u001b[0m\u001b[0;34m\u001b[0m\u001b[0;34m\u001b[0m\u001b[0m\n\u001b[0;32m---> 51\u001b[0;31m         \u001b[0mself\u001b[0m\u001b[0;34m.\u001b[0m\u001b[0m_open_handles\u001b[0m\u001b[0;34m(\u001b[0m\u001b[0msrc\u001b[0m\u001b[0;34m,\u001b[0m \u001b[0mkwds\u001b[0m\u001b[0;34m)\u001b[0m\u001b[0;34m\u001b[0m\u001b[0;34m\u001b[0m\u001b[0m\n\u001b[0m\u001b[1;32m     52\u001b[0m         \u001b[0;32massert\u001b[0m \u001b[0mself\u001b[0m\u001b[0;34m.\u001b[0m\u001b[0mhandles\u001b[0m \u001b[0;32mis\u001b[0m \u001b[0;32mnot\u001b[0m \u001b[0;32mNone\u001b[0m\u001b[0;34m\u001b[0m\u001b[0;34m\u001b[0m\u001b[0m\n\u001b[1;32m     53\u001b[0m \u001b[0;34m\u001b[0m\u001b[0m\n",
            "\u001b[0;32m/usr/local/lib/python3.7/dist-packages/pandas/io/parsers/base_parser.py\u001b[0m in \u001b[0;36m_open_handles\u001b[0;34m(self, src, kwds)\u001b[0m\n\u001b[1;32m    227\u001b[0m             \u001b[0mmemory_map\u001b[0m\u001b[0;34m=\u001b[0m\u001b[0mkwds\u001b[0m\u001b[0;34m.\u001b[0m\u001b[0mget\u001b[0m\u001b[0;34m(\u001b[0m\u001b[0;34m\"memory_map\"\u001b[0m\u001b[0;34m,\u001b[0m \u001b[0;32mFalse\u001b[0m\u001b[0;34m)\u001b[0m\u001b[0;34m,\u001b[0m\u001b[0;34m\u001b[0m\u001b[0;34m\u001b[0m\u001b[0m\n\u001b[1;32m    228\u001b[0m             \u001b[0mstorage_options\u001b[0m\u001b[0;34m=\u001b[0m\u001b[0mkwds\u001b[0m\u001b[0;34m.\u001b[0m\u001b[0mget\u001b[0m\u001b[0;34m(\u001b[0m\u001b[0;34m\"storage_options\"\u001b[0m\u001b[0;34m,\u001b[0m \u001b[0;32mNone\u001b[0m\u001b[0;34m)\u001b[0m\u001b[0;34m,\u001b[0m\u001b[0;34m\u001b[0m\u001b[0;34m\u001b[0m\u001b[0m\n\u001b[0;32m--> 229\u001b[0;31m             \u001b[0merrors\u001b[0m\u001b[0;34m=\u001b[0m\u001b[0mkwds\u001b[0m\u001b[0;34m.\u001b[0m\u001b[0mget\u001b[0m\u001b[0;34m(\u001b[0m\u001b[0;34m\"encoding_errors\"\u001b[0m\u001b[0;34m,\u001b[0m \u001b[0;34m\"strict\"\u001b[0m\u001b[0;34m)\u001b[0m\u001b[0;34m,\u001b[0m\u001b[0;34m\u001b[0m\u001b[0;34m\u001b[0m\u001b[0m\n\u001b[0m\u001b[1;32m    230\u001b[0m         )\n\u001b[1;32m    231\u001b[0m \u001b[0;34m\u001b[0m\u001b[0m\n",
            "\u001b[0;32m/usr/local/lib/python3.7/dist-packages/pandas/io/common.py\u001b[0m in \u001b[0;36mget_handle\u001b[0;34m(path_or_buf, mode, encoding, compression, memory_map, is_text, errors, storage_options)\u001b[0m\n\u001b[1;32m    705\u001b[0m                 \u001b[0mencoding\u001b[0m\u001b[0;34m=\u001b[0m\u001b[0mioargs\u001b[0m\u001b[0;34m.\u001b[0m\u001b[0mencoding\u001b[0m\u001b[0;34m,\u001b[0m\u001b[0;34m\u001b[0m\u001b[0;34m\u001b[0m\u001b[0m\n\u001b[1;32m    706\u001b[0m                 \u001b[0merrors\u001b[0m\u001b[0;34m=\u001b[0m\u001b[0merrors\u001b[0m\u001b[0;34m,\u001b[0m\u001b[0;34m\u001b[0m\u001b[0;34m\u001b[0m\u001b[0m\n\u001b[0;32m--> 707\u001b[0;31m                 \u001b[0mnewline\u001b[0m\u001b[0;34m=\u001b[0m\u001b[0;34m\"\"\u001b[0m\u001b[0;34m,\u001b[0m\u001b[0;34m\u001b[0m\u001b[0;34m\u001b[0m\u001b[0m\n\u001b[0m\u001b[1;32m    708\u001b[0m             )\n\u001b[1;32m    709\u001b[0m         \u001b[0;32melse\u001b[0m\u001b[0;34m:\u001b[0m\u001b[0;34m\u001b[0m\u001b[0;34m\u001b[0m\u001b[0m\n",
            "\u001b[0;31mFileNotFoundError\u001b[0m: [Errno 2] No such file or directory: 'olist_orders_dataset.csv'"
          ]
        }
      ]
    },
    {
      "cell_type": "markdown",
      "source": [
        "#### Percorrendo um DataFrame\n",
        "\n",
        "- Percorra um DataFrame, mostrando o 'customer_id' das 10 primeiras tuplas (linhas) da base de dados\n",
        "- Dica: iterrows()"
      ],
      "metadata": {
        "id": "dlfx2qxPt5gb"
      }
    },
    {
      "cell_type": "code",
      "execution_count": null,
      "metadata": {
        "id": "0B6ypwuupiR2",
        "cellView": "form"
      },
      "outputs": [],
      "source": [
        "#@title Ver exemplo\n",
        "for index, row in df.iterrows(): #percorrer cada uma das linhas do DataFrame, acessando uma coluna específica para os dez primeiros elementos\n",
        "    display(row['customer_id'])\n",
        "    if index == 9:\n",
        "      break"
      ]
    },
    {
      "cell_type": "code",
      "source": [
        ""
      ],
      "metadata": {
        "id": "uWav52zBX57F"
      },
      "execution_count": null,
      "outputs": []
    },
    {
      "cell_type": "markdown",
      "metadata": {
        "id": "Iad-4088piR2"
      },
      "source": [
        "#### Extraíndo uma Serie do DataFrame\n",
        "- Para acessar apenas uma coluna, extraindo uma Serie do DataFrame, utilize ['identificado_o_header_aqui']\n",
        "- Caso precise ver quais os nomes dos 'Headers', imprima as chaves de seu DataFrame\n",
        "- Importe o arquivo de dados olist_order_payments_dataset.csv em uma variável, exiba-o e em seguida, exiba somente a coluna 'payment_value'"
      ]
    },
    {
      "cell_type": "code",
      "execution_count": null,
      "metadata": {
        "id": "CQSQLjs1piR2",
        "cellView": "form"
      },
      "outputs": [],
      "source": [
        "#@title Ver exemplo\n",
        "df_payments = pd.read_csv(\"olist_order_payments_dataset.csv\")\n",
        "display(df_payments)\n",
        "\n",
        "#para ver as chaves\n",
        "print('\\n\\nNomes dos Headers\\n\\n',df_payments.keys(), \"\\n\")\n",
        "\n",
        "df_payments_payvalue = df_payments['payment_value']\n",
        "display(df_payments_payvalue) ##temos apenas uma das colunas aqui!\n",
        "\n"
      ]
    },
    {
      "cell_type": "code",
      "source": [
        ""
      ],
      "metadata": {
        "id": "4OQnUtvnX5fs"
      },
      "execution_count": null,
      "outputs": []
    },
    {
      "cell_type": "markdown",
      "source": [
        "#### Identificando valores únicos em uma Series\n",
        "\n",
        "- Utilize os dados do conjunto olist_order_payments_dataset.csv (o mesmo do exemplo anterior) e demonstre os valores únicos para a coluna \"payment_type\"\"\n"
      ],
      "metadata": {
        "id": "87BXE1S6fKB4"
      }
    },
    {
      "cell_type": "code",
      "source": [
        "#@title Ver exemplo\n",
        "import pandas as pd\n",
        "df = pd.read_csv(\"olist_order_payments_dataset.csv\")\n",
        "\n",
        "print(df[\"payment_type\"].unique())"
      ],
      "metadata": {
        "id": "GGNlxIf9fRTH",
        "cellView": "form"
      },
      "execution_count": null,
      "outputs": []
    },
    {
      "cell_type": "code",
      "source": [
        ""
      ],
      "metadata": {
        "id": "tBhJw8JggOdJ"
      },
      "execution_count": null,
      "outputs": []
    },
    {
      "cell_type": "markdown",
      "source": [
        "#### Contando valores únicos em uma Series\n",
        "\n",
        "- Utilize os dados do conjunto olist_order_payments_dataset.csv (o mesmo do exemplo anterior) e identifique a quantidade de elementos recorrentes (contagem) para a coluna \"payment_type\""
      ],
      "metadata": {
        "id": "ETIxt_NlgfUP"
      }
    },
    {
      "cell_type": "code",
      "source": [
        "#@title Ver exemplo\n",
        "import pandas as pd\n",
        "df = pd.read_csv(\"olist_order_payments_dataset.csv\")\n",
        "\n",
        "print(df[\"payment_type\"].value_counts())"
      ],
      "metadata": {
        "cellView": "form",
        "id": "qcWwRpYcgnjX"
      },
      "execution_count": null,
      "outputs": []
    },
    {
      "cell_type": "code",
      "source": [
        ""
      ],
      "metadata": {
        "id": "CJwOnjsKgxeK"
      },
      "execution_count": null,
      "outputs": []
    },
    {
      "cell_type": "markdown",
      "metadata": {
        "id": "PkKkjLeOpiR2"
      },
      "source": [
        "#### Algumas funções importantes para DataFrame/Series\n",
        "\n",
        "Sr.No.|Function|Description|\n",
        "------|--------|-----------|\n",
        "1|count()|Number of non-null observations|\n",
        "2|sum()|Sum of values|\n",
        "3|mean()|Mean of Values|\n",
        "4|median()|Median of Values|\n",
        "5|mode()|Mode of values|\n",
        "6|std()|Standard Deviation of the Values|\n",
        "7|min()|Minimum Value|\n",
        "8|max()|Maximum Value|\n",
        "9|abs()|Absolute Value|\n",
        "10|prod()|Product of Values|\n",
        "11|cumsum()|Cumulative Sum|\n",
        "12|cumprod()|Cumulative Product|\n",
        "13|describe()|function computes a summary of statistics pertaining to the DataFrame columns.|\n",
        "\n",
        "- Importe o conjunto de dados olist_order_payments_dataset.csv e utilize o método describe para a coluna 'payment_value'.  "
      ]
    },
    {
      "cell_type": "code",
      "execution_count": null,
      "metadata": {
        "id": "HCPY1YcApiR2",
        "cellView": "form"
      },
      "outputs": [],
      "source": [
        "#@title Ver exemplo\n",
        "df_payments = pd.read_csv(\"olist_order_payments_dataset.csv\")\n",
        "df_payments_payvalue = df_payments['payment_value']\n",
        "\n",
        "print('\\nMédia:', df_payments_payvalue.mean())\n",
        "print('\\nDesvio Padrão:', df_payments_payvalue.std())\n",
        "print('\\nModa:', df_payments_payvalue.mode())\n",
        "print('\\nDados Estatísticos:', df_payments_payvalue.describe())"
      ]
    },
    {
      "cell_type": "code",
      "source": [
        ""
      ],
      "metadata": {
        "id": "rQhLePkhX41f"
      },
      "execution_count": null,
      "outputs": []
    },
    {
      "cell_type": "markdown",
      "metadata": {
        "id": "GF-pmHFfpiR3"
      },
      "source": [
        "#### SubConjunto - Pandas\n",
        "- Caso seja do seu interesse extrair um subconjunto de dados de um DataFrame, com base em uma regra, utilize os operadores relacionais\n",
        "\n",
        "Operador|Descrição|\n",
        "--------|---------|\n",
        "==|igual|\n",
        "!=|diferente|\n",
        ">|maior|\n",
        "<|menor|\n",
        ">=|maior ou igual|\n",
        "<=|menor ou igual|\n",
        "\n",
        "- Crie um subconjunto de dados, contendo apenas os pagamentos realizados com \"credit_card\". Para isso, utilize o conjunto de dados olist_order_payments_dataset.csv\n"
      ]
    },
    {
      "cell_type": "code",
      "execution_count": null,
      "metadata": {
        "id": "GOpJSiStpiR3",
        "cellView": "form"
      },
      "outputs": [],
      "source": [
        "#@title Ver exemplo\n",
        "df_payments = pd.read_csv(\"olist_order_payments_dataset.csv\")\n",
        "\n",
        "regra = df_payments.payment_type == 'credit_card' #podemos gerar uma regra que \"verificará\" todo data frame\n",
        "display('\\nRegras\\n',df_payments[regra])\n",
        "\n"
      ]
    },
    {
      "cell_type": "code",
      "source": [
        ""
      ],
      "metadata": {
        "id": "74N_w-8IX3SG"
      },
      "execution_count": null,
      "outputs": []
    },
    {
      "cell_type": "markdown",
      "metadata": {
        "id": "zVmFXKgipiR2"
      },
      "source": [
        "#### Criando um DataFrame do zero\n",
        "\n",
        "- Crie um dataframe do zero (neste exemplo vamos usar um dicionário)"
      ]
    },
    {
      "cell_type": "code",
      "execution_count": null,
      "metadata": {
        "id": "zbTyHbzcpiR3",
        "cellView": "form"
      },
      "outputs": [],
      "source": [
        "#@title Ver exemplo\n",
        "import pandas as pd \n",
        "  \n",
        "# inicializando as listas\n",
        "dados = [\n",
        "    ['Marge', 10], \n",
        "    ['Bart', 5.5], \n",
        "    ['Lisa', 9.5]\n",
        "]  #cada elemento da lista é uma lista com todos os dados da \"linha\"\n",
        "cabecalho = ['Nome', 'Nota'] #titulos das colunas\n",
        "  \n",
        "# Create the pandas DataFrame \n",
        "df = pd.DataFrame(data = dados, columns = cabecalho) #neste caso, como esta não é a ordem correta dos parâmetros, podemos \"forçar seu nome\"\n",
        "  \n",
        "# print dataframe. \n",
        "display(df)\n",
        "\n",
        "#Extra! Criando uma planilha do excel com estes dados\n",
        "df.to_excel('alunos_notas.xlsx',index = False) \n",
        "\n",
        "#Extra! Criando uma planilha csv com estes dados\n",
        "df.to_csv('alunos_notas.csv', index = False) #remove o indice\n",
        "\n",
        "#Extra! Criando uma planilha csv com estes dados\n",
        "df.to_csv('alunos_notas_2.csv', index = True) #não remove o indice\n",
        "\n",
        "regras = df.Nota >= 6.0\n",
        "display(df[df.Nota >= 6.0])"
      ]
    },
    {
      "cell_type": "code",
      "source": [
        ""
      ],
      "metadata": {
        "id": "MWsqsFB2X4TK"
      },
      "execution_count": null,
      "outputs": []
    },
    {
      "cell_type": "markdown",
      "metadata": {
        "id": "r4E5mLZcpiR3"
      },
      "source": [
        "### Bibliotecas - Gráfica (Matplotlib)\n",
        "\n",
        "- Utulize um conjunto de listas para plotar um gráfico utilizando a biblioteca MatPlotLib"
      ]
    },
    {
      "cell_type": "code",
      "execution_count": null,
      "metadata": {
        "id": "aufhjjRqpiR3",
        "cellView": "form"
      },
      "outputs": [],
      "source": [
        "#@title Ver exemplo\n",
        "import matplotlib.pyplot as plt\n",
        "\n",
        "medias = [5.4, 6.7, 5.2, 8.5, 9.5]\n",
        "anos = list(range(2016, 2021))\n",
        "\n",
        "plt.plot(anos, medias)\n",
        "plt.show()"
      ]
    },
    {
      "cell_type": "code",
      "source": [
        ""
      ],
      "metadata": {
        "id": "CX_sfEazX24T"
      },
      "execution_count": null,
      "outputs": []
    }
  ],
  "metadata": {
    "kernelspec": {
      "display_name": "Python 3",
      "language": "python",
      "name": "python3"
    },
    "language_info": {
      "codemirror_mode": {
        "name": "ipython",
        "version": 3
      },
      "file_extension": ".py",
      "mimetype": "text/x-python",
      "name": "python",
      "nbconvert_exporter": "python",
      "pygments_lexer": "ipython3",
      "version": "3.7.4"
    },
    "colab": {
      "name": "Revisao.ipynb",
      "provenance": [],
      "include_colab_link": true
    }
  },
  "nbformat": 4,
  "nbformat_minor": 0
}